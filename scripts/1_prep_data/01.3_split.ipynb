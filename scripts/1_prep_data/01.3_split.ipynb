{
 "cells": [
  {
   "cell_type": "code",
   "execution_count": 1,
   "id": "ffbdc39e",
   "metadata": {},
   "outputs": [],
   "source": [
    "# Split data into train and test \n",
    "# Load CES_prediction.Rproj\n",
    "# Last updated: 5/8/2024 by NB "
   ]
  },
  {
   "cell_type": "code",
   "execution_count": 2,
   "id": "a72fb524",
   "metadata": {},
   "outputs": [],
   "source": [
    "# 0. Load objects\n",
    "\n",
    "rm(list=ls())\n",
    "options(warn=-1)\n",
    "\n",
    "# Libraries \n",
    "suppressPackageStartupMessages({\n",
    "    \n",
    "    library(dplyr)\n",
    "    library(tidymodels)\n",
    "    \n",
    "})\n",
    "\n",
    "# Set wd\n",
    "setwd('~/Desktop/GitHub/CES_prediction')                           \n",
    "                               \n",
    "# Data\n",
    "load(\"temp/poll_clean.rda\")\n",
    "load(\"temp/eda_results.rda\")"
   ]
  },
  {
   "cell_type": "code",
   "execution_count": 3,
   "id": "850a9d96",
   "metadata": {},
   "outputs": [],
   "source": [
    "# 1. Split data into train and test sets\n",
    "\n",
    "# Split data into 80-20\n",
    "set.seed(42)\n",
    "split <- poll_clean %>% \n",
    "  initial_split(prop = 0.8, strata = \"climate_change_worry\")\n",
    "poll_train <- training(split)\n",
    "poll_test <- testing(split)"
   ]
  },
  {
   "cell_type": "code",
   "execution_count": 4,
   "id": "3ea23321",
   "metadata": {},
   "outputs": [],
   "source": [
    "# 2. Apply train/test split pre-processing from EDA\n",
    "\n",
    "# Remove weak features\n",
    "poll_train <- poll_train %>% \n",
    "  dplyr::select(-all_of(eda_results$weaker_features))\n",
    "\n",
    "poll_test <- poll_test %>% \n",
    "  dplyr::select(-all_of(eda_results$weaker_features))\n",
    "\n",
    "# Combine CDC features with PCA\n",
    "pca_recipe <- poll_train %>% \n",
    "  recipe(\"climate_change_worry ~ .\") %>% \n",
    "  step_pca(all_of(eda_results$pca_transform), num_comp = 1)\n",
    "\n",
    "poll_train <- pca_recipe %>% \n",
    "  prep() %>% juice() %>% \n",
    "  data.frame() %>% \n",
    "  rename(cdc_svi_comp = \"PC1\")\n",
    "  \n",
    "poll_test <- pca_recipe %>% \n",
    "  prep() %>% bake(poll_test) %>% \n",
    "  data.frame() %>% \n",
    "  rename(cdc_svi_comp = \"PC1\")\n",
    "\n",
    "# Log transform NOAA feature\n",
    "poll_train$noaa_cost_pc <- log(poll_train$noaa_cost_pc + 0.1)\n",
    "poll_test$noaa_cost_pc <- log(poll_test$noaa_cost_pc + 0.1)\n",
    "\n",
    "# Save processed splits\n",
    "save(poll_train, file=\"temp/poll_train.rda\")\n",
    "save(poll_test, file=\"temp/poll_test.rda\")"
   ]
  }
 ],
 "metadata": {
  "kernelspec": {
   "display_name": "R",
   "language": "R",
   "name": "ir"
  },
  "language_info": {
   "codemirror_mode": "r",
   "file_extension": ".r",
   "mimetype": "text/x-r-source",
   "name": "R",
   "pygments_lexer": "r",
   "version": "4.3.1"
  }
 },
 "nbformat": 4,
 "nbformat_minor": 5
}
