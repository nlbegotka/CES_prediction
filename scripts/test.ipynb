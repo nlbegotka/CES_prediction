{
 "cells": [
  {
   "cell_type": "code",
   "execution_count": null,
   "id": "583ddec5",
   "metadata": {},
   "outputs": [],
   "source": [
    "# Test"
   ]
  },
  {
   "cell_type": "code",
   "execution_count": null,
   "id": "b42c4ff2",
   "metadata": {},
   "outputs": [],
   "source": [
    "# Test individual model performance and ensemble model performance\n",
    "# Last updated: 5/11/2024 by NB \n",
    "\n",
    "#-------------------------------------------------------------------------------\n",
    "# 0. Load objects\n",
    "#-------------------------------------------------------------------------------\n",
    "# Libraries\n",
    "rm(list=ls())\n",
    "library(ggplot2)\n",
    "library(dplyr)\n",
    "\n",
    "# Data\n",
    "load(\"output/3_aucs/auc_assessment.rda\")\n",
    "\n",
    "# Functions\n",
    "source(\"scripts/0_functions/00_create_directory.R\")\n",
    "\n",
    "#-------------------------------------------------------------------------------\n",
    "# 1. Plot\n",
    "#-------------------------------------------------------------------------------\n",
    "# Create df \n",
    "model_names <- names(aucs)\n",
    "auc_values <- c(0.8097, 0.806, 0.7998, 0.5107, 0.5627, 0.8081, 0.8102, 0.81)\n",
    "auc_df <- data.frame(model = model_names, auc = auc_values) %>%  \n",
    "  arrange(desc(auc))\n",
    "auc_df$model <- fct_reorder(auc_df$model, auc_df$auc, .desc = TRUE)\n",
    "\n",
    "# Create a barplot \n",
    "ggplot(auc_df, aes(x = model, y = auc)) +\n",
    "  geom_bar(stat = \"identity\", fill = \"#B03A2E\") +\n",
    "  geom_text(aes(label = round(auc, 4)), vjust = -0.5) +  # Add labels above bars\n",
    "  labs(title = \"AUC Values for Different Models\",\n",
    "       x = \"Model\", y = \"AUC\") +\n",
    "  theme(axis.text.x = element_text(angle = 45, hjust = 1))  # Rotate x-axis labels for better readability"
   ]
  }
 ],
 "metadata": {
  "kernelspec": {
   "display_name": "R",
   "language": "R",
   "name": "ir"
  },
  "language_info": {
   "codemirror_mode": "r",
   "file_extension": ".r",
   "mimetype": "text/x-r-source",
   "name": "R",
   "pygments_lexer": "r",
   "version": "4.3.1"
  }
 },
 "nbformat": 4,
 "nbformat_minor": 5
}
