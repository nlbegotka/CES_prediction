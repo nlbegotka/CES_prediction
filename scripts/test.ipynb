{
 "cells": [
  {
   "cell_type": "code",
   "execution_count": null,
   "id": "4c10b9b0",
   "metadata": {},
   "outputs": [],
   "source": [
    "# Test"
   ]
  },
  {
   "cell_type": "code",
   "execution_count": null,
   "id": "7eee8b3d",
   "metadata": {},
   "outputs": [],
   "source": [
    "rm(list=ls())\n",
    "library(ggplot2)\n",
    "library(dplyr)\n",
    "\n",
    "# Data\n",
    "load(\"output/3_aucs/auc_assessment.rda\")\n",
    "\n",
    "# Functions\n",
    "source(\"scripts/0_functions/00_create_directory.R\")"
   ]
  },
  {
   "cell_type": "code",
   "execution_count": 1,
   "id": "a2b40ca9",
   "metadata": {},
   "outputs": [
    {
     "name": "stdout",
     "output_type": "stream",
     "text": [
      "[1] 4\n"
     ]
    }
   ],
   "source": [
    "print(2+2)"
   ]
  },
  {
   "cell_type": "code",
   "execution_count": null,
   "id": "2749f43d",
   "metadata": {},
   "outputs": [],
   "source": [
    "print(2+2)"
   ]
  }
 ],
 "metadata": {
  "kernelspec": {
   "display_name": "R",
   "language": "R",
   "name": "ir"
  },
  "language_info": {
   "codemirror_mode": "r",
   "file_extension": ".r",
   "mimetype": "text/x-r-source",
   "name": "R",
   "pygments_lexer": "r",
   "version": "4.3.1"
  }
 },
 "nbformat": 4,
 "nbformat_minor": 5
}
