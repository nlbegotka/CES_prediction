{
 "cells": [
  {
   "cell_type": "code",
   "execution_count": null,
   "id": "4de1347b",
   "metadata": {},
   "outputs": [],
   "source": [
    "# Test individual model performance and ensemble model performance\n",
    "# Last updated: 5/18/2024 by NB "
   ]
  },
  {
   "cell_type": "code",
   "execution_count": 1,
   "id": "a52aa641",
   "metadata": {},
   "outputs": [],
   "source": [
    "# 0. Load objects\n",
    "\n",
    "# Libraries\n",
    "rm(list=ls())\n",
    "library(ggplot2)\n",
    "suppressMessages(library(dplyr))\n",
    "library(forcats)\n",
    "\n",
    "# Set wd\n",
    "setwd('~/Desktop/GitHub/CES_prediction')\n",
    "\n",
    "# Data\n",
    "load('output/3_aucs/auc_assessment.rda')\n",
    "\n",
    "# Functions\n",
    "source('scripts/0_functions/00_create_directory.R')"
   ]
  },
  {
   "cell_type": "code",
   "execution_count": null,
   "id": "84ede14d",
   "metadata": {},
   "outputs": [],
   "source": [
    "# 1. Plot\n",
    "\n",
    "# Create df \n",
    "model_names <- c('xgboost', 'randforest', 'elasticnet', 'mixedmod_PCA', 'mixedmod_bsub', 'ensemble_avg', \n",
    "                 'ensemble_wgtavg', 'ensemble_wgtavg_3')\n",
    "auc_values <- c(0.8097, 0.806, 0.7998, 0.5107, 0.5627, 0.8081, 0.8102, 0.81)\n",
    "auc_df <- data.frame(model = model_names, auc = auc_values) %>%\n",
    "  arrange(desc(auc)) %>%\n",
    "  mutate(model = fct_reorder(model, auc, .desc=TRUE))\n",
    "\n",
    "# Create a barplot \n",
    "ggplot(auc_df, aes(x = model, y = auc)) +\n",
    "  geom_bar(stat = 'identity', fill = '#B03A2E') +\n",
    "  geom_text(aes(label = round(auc, 4)), vjust = -0.5) +\n",
    "  labs(title = 'AUC values across models',\n",
    "       x = 'Model', y = 'AUC') +\n",
    "  theme(axis.text.x = element_text(angle = 45, hjust = 1, size=12))"
   ]
  },
  {
   "cell_type": "markdown",
   "id": "56fbbc42",
   "metadata": {},
   "source": [
    "From this analysis, I would select the ensemble model that is a weighted average of all 5 component models. In addition having the largest AUC, ensemble models are known to perform better than individual models. The discrepancy in performance between the more advanced models and the mixed models with variable selection should be investigated. "
   ]
  }
 ],
 "metadata": {
  "kernelspec": {
   "display_name": "R",
   "language": "R",
   "name": "ir"
  },
  "language_info": {
   "codemirror_mode": "r",
   "file_extension": ".r",
   "mimetype": "text/x-r-source",
   "name": "R",
   "pygments_lexer": "r",
   "version": "4.3.1"
  }
 },
 "nbformat": 4,
 "nbformat_minor": 5
}
