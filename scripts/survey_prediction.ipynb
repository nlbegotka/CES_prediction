{
 "cells": [
  {
   "cell_type": "code",
   "execution_count": 1,
   "id": "7cf177eb",
   "metadata": {},
   "outputs": [
    {
     "name": "stderr",
     "output_type": "stream",
     "text": [
      "\n",
      "Attaching package: ‘dplyr’\n",
      "\n",
      "\n",
      "The following objects are masked from ‘package:stats’:\n",
      "\n",
      "    filter, lag\n",
      "\n",
      "\n",
      "The following objects are masked from ‘package:base’:\n",
      "\n",
      "    intersect, setdiff, setequal, union\n",
      "\n",
      "\n"
     ]
    }
   ],
   "source": [
    "\n",
    "sf_plot_save_state <- function(data, value_column, palette, title, legendlabel, output_file, width = 11, height = 8, dpi = 900) {\n",
    "  plt <- ggplot(data) +\n",
    "    geom_sf(aes(fill = get(value_column))) +\n",
    "    scale_fill_manual(values = palette, name = legendlabel, guide = guide_legend(reverse = TRUE), drop = FALSE) +\n",
    "    labs(title = title, x = \"\", y = \"\") +\n",
    "    theme_void() +\n",
    "    theme(legend.title = element_text(colour = \"black\", size = 12), \n",
    "          legend.text = element_text(colour = \"black\", size = 10), \n",
    "          legend.key.size = unit(1.5, \"lines\"),\n",
    "          plot.margin = margin(.6, .6, 1.2, 1.2, \"cm\"))\n",
    "  \n",
    "  ggsave(output_file, plt, width = width, height = height, dpi = dpi)\n",
    "}\n",
    "\n",
    "\n",
    "sf_plot_save_county <- function(data, value_column, palette, lwd, title, legendlabel, output_file, width = 11, height = 8, dpi = 900) {\n",
    "  \n",
    "  state_shp <- states(year=2022, cb=TRUE) %>% \n",
    "    filter(!STATEFP %in% c(\"02\", \"15\", \"60\", \"66\", \"69\",\"72\", \"78\"))\n",
    "  \n",
    "  plt <- ggplot(data) +\n",
    "    geom_sf(aes(fill = get(value_column))) +\n",
    "    geom_sf(data = state_shp, color = \"#333333\",  fill = NA, lwd = lwd) +\n",
    "    scale_fill_manual(values = palette_10, name = legendlabel, guide = guide_legend(reverse = TRUE), drop = FALSE) +\n",
    "    labs(title = title, x = \"\", y = \"\") +\n",
    "    theme_void() +\n",
    "    theme(legend.title = element_text(colour = \"black\", size = 12), \n",
    "          legend.text = element_text(colour = \"black\", size = 10), \n",
    "          legend.key.size = unit(1.5, \"lines\"),\n",
    "          plot.margin = margin(.6, .6, 1.2, 1.2, \"cm\"))\n",
    "  \n",
    "  ggsave(output_file, plt, width = width, height = height, dpi = dpi)\n",
    "}\n",
    "\n",
    "\n",
    "\n",
    "sf_plot_save_county_state <- function(data, states, value_column, palette, lwd, title, legendlabel, output_file, width = 11, height = 8, dpi = 900) {\n",
    "  \n",
    "  state_shp <- states(year=2022, cb=TRUE) %>% \n",
    "    filter(NAME %in% states)\n",
    "  \n",
    "  plt <- ggplot(data) +\n",
    "    geom_sf(aes(fill = get(value_column))) +\n",
    "    geom_sf(data = state_shp, color = \"#333333\",  fill = NA, lwd = lwd) +\n",
    "    scale_fill_manual(values = palette_10, name = legendlabel, guide = guide_legend(reverse = TRUE), drop = FALSE) +\n",
    "    labs(title = title, x = \"\", y = \"\") +\n",
    "    theme_void() +\n",
    "    theme(legend.title = element_text(colour = \"black\", size = 12), \n",
    "          legend.text = element_text(colour = \"black\", size = 10), \n",
    "          legend.key.size = unit(1.5, \"lines\"),\n",
    "          plot.margin = margin(.6, .6, 1.2, 1.2, \"cm\"))\n",
    "  \n",
    "  ggsave(output_file, plt, width = width, height = height, dpi = dpi)\n",
    "}"
   ]
  },
  {
   "cell_type": "code",
   "execution_count": null,
   "id": "f7cbc1fc",
   "metadata": {},
   "outputs": [],
   "source": []
  }
 ],
 "metadata": {
  "kernelspec": {
   "display_name": "R",
   "language": "R",
   "name": "ir"
  },
  "language_info": {
   "codemirror_mode": "r",
   "file_extension": ".r",
   "mimetype": "text/x-r-source",
   "name": "R",
   "pygments_lexer": "r",
   "version": "4.3.1"
  }
 },
 "nbformat": 4,
 "nbformat_minor": 5
}
